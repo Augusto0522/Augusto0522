{
 "cells": [
  {
   "cell_type": "markdown",
   "id": "f189ad6c",
   "metadata": {},
   "source": [
    "# Previsión del precio de la electricidad con redes neuronales\n",
    "\n",
    "### 💡 Objetivo:\n",
    "\n",
    "Este cuaderno busca utilizar técnicas avanzadas de aprendizaje automático para **prever el precio de la electricidad**. Mediante el uso de redes neuronales, como LSTM, CNN y RNN, se intentará modelar y entender las complejidades y patrones inherentes a los datos de series temporales.\n",
    "\n",
    "### ⚡ Importancia de Prever el Precio de la Electricidad:\n",
    "\n",
    "La electricidad es un recurso esencial en la sociedad moderna y su **precio** tiene un impacto directo en la economía y en la vida cotidiana. **Prever su precio** permite a las empresas y consumidores planificar sus gastos y promueve la **estabilidad del mercado energético**. Además, con la incorporación de **fuentes de energía renovable**, la **previsión precisa del precio** se vuelve crucial.\n",
    "\n",
    "###  📜 Antecedentes:\n",
    "\n",
    "La electricidad, fundamental para el progreso social, ha pasado a ser un bien comerciable en países desregulados. La **Ley del Sector Eléctrico 54/1997 en España** introdujo incertidumbre en la industria eléctrica, ya que los **precios de la electricidad** están influenciados por innumerables factores y la dificultad de **almacenar electricidad**. La **creciente demanda** de métodos de pronóstico fiables ha abierto una vía para la **investigación**.\n",
    "\n",
    "El objetivo de este análisis es **predecir el precio de la electricidad de la hora** siguiente utilizando datos históricos del precio de la electricidad, así como otras variables relevantes relacionadas con la generación de energía y las condiciones meteorológicas. Esta investigación proporciona una exploración detallada, limpieza de datos, análisis de series temporales del precio de la electricidad.\n",
    "\n",
    "<img src=\"images/051a5cb7-768f-4d82-89e1-626b198b7878.jpg\" width=\"600\" />\n",
    "\n",
    "### 📂 Exploración y limpieza:\n",
    "\n",
    "Los datos constan de **registros horarios** que abarcan desde el año 2015 hasta el 2019. Cada registro se describe mediante múltiples columnas de características relacionadas con la generación de energía y las condiciones meteorológicas en cinco ciudades principales de España: Madrid, Barcelona, Valencia, Sevilla y Bilbao.\n",
    "\n",
    "> **`'weather_features.csv':`** Contiene información horaria sobre las condiciones meteorológicas (por ejemplo, temperatura, velocidad del viento y humedad).\n",
    ">>Características:\n",
    ">>- `time` (Hora del registro): Valor temporal que indica el momento específico del registro.\n",
    ">>- `temp` (Temperatura en Kelvins): Valor numérico que indica la temperatura.\n",
    ">>- `temp_min` (Temperatura mínima en Kelvins): Valor numérico que indica la temperatura más baja registrada.\n",
    ">>- `temp_max` (Temperatura máxima en Kelvins): Valor numérico que indica la temperatura más alta registrada.\n",
    ">>- `pressure` (Presión atmosférica en hectopascales): Valor numérico que muestra la presión atmosférica.\n",
    ">>- `humidity` (Humedad relativa en porcentaje): Valor numérico que indica el porcentaje de humedad en el aire.\n",
    ">>- `wind_speed` (Velocidad del viento en metros por segundo): Valor numérico que muestra la velocidad a la que se desplaza el viento.\n",
    ">>- `wind_deg` (Dirección del viento en grados): Valor numérico que indica la dirección desde la cual proviene el viento, medida en grados.\n",
    "\n",
    "> **`'energy_dataset.csv':`** Contiene información horaria sobre la generación de energía. En particular, hay información (en MW) sobre la cantidad de electricidad generada por las distintas fuentes de energía (nuclear, gas fósil y energía eólica dominan la red energética), así como sobre la carga total (demanda de energía) de la red nacional y el precio de la energía (&euro;/MWh). \n",
    "\n",
    ">>Características:\n",
    ">>- `time` (Hora del registro): Valor temporal que indica el momento específico del registro.\n",
    ">>- `generation biomass` (Generación de biomasa): Valor numérico en MW que indica la cantidad de electricidad generada a partir de biomasa.\n",
    ">>- `generation fossil brown coal/lignite` (Generación de carbón lignito): Valor numérico en MW que indica la cantidad de electricidad generada a partir de carbón marrón o lignito.\n",
    ">>- `generation fossil gas` (Generación de gas fósil): Valor numérico en MW que indica la cantidad de electricidad generada a partir de gas fósil.\n",
    ">>- `generation fossil hard coal` (Generación de carbón duro): Valor numérico en MW que indica la cantidad de electricidad generada a partir de carbón duro.\n",
    ">>- `generation fossil oil` (Generación de petróleo fósil): Valor numérico en MW que indica la cantidad de electricidad generada a partir de petróleo.\n",
    ">>- `generation hydro pumped storage consumption` (Consumo de almacenamiento de bombeo hidroeléctrico): Valor numérico en MW que indica la cantidad de electricidad consumida por el almacenamiento de bombeo hidroeléctrico.\n",
    ">>- `generation hydro run-of-river and poundage` (Generación hidroeléctrica de río y embalse): Valor numérico en MW que indica la cantidad de electricidad generada por tecnologías hidroeléctricas de río y embalse.\n",
    ">>- `generation hydro water reservoir` (Generación hidroeléctrica de embalse): Valor numérico en MW que indica la cantidad de electricidad generada a partir de embalses.\n",
    ">>- `generation nuclear` (Generación nuclear): Valor numérico en MW que indica la cantidad de electricidad generada a partir de energía nuclear.\n",
    ">>- `generation other` (Otras fuentes de generación): Valor numérico en MW que indica la cantidad de electricidad generada a partir de otras fuentes no especificadas.\n",
    ">>- `generation other renewable` (Generación de otras fuentes renovables): Valor numérico en MW que indica la cantidad de electricidad generada a partir de otras fuentes renovables no especificadas.\n",
    ">>- `generation solar` (Generación solar): Valor numérico en MW que indica la cantidad de electricidad generada a partir de energía solar.\n",
    ">>- `generation waste` (Generación a partir de residuos): Valor numérico en MW que indica la cantidad de electricidad generada a partir de residuos.\n",
    ">>- `generation wind onshore` (Generación eólica en tierra): Valor numérico en MW que indica la cantidad de electricidad generada por turbinas eólicas en tierra.\n",
    ">>- `total load actual` (Carga total real): Valor numérico en MW que indica la demanda total de electricidad en la red.\n",
    ">>- `price day ahead` (Precio del día siguiente): Valor numérico en €/MWh que indica el precio acordado de la electricidad para el día siguiente basado en las previsiones.\n",
    ">>- `price actual` (Precio real o actual): Valor numérico en €/MWh que indica el precio real de la electricidad en el mercado en tiempo real, reflejando las condiciones actuales de oferta y demanda.\n",
    "\n",
    "\n",
    "---"
   ]
  },
  {
   "cell_type": "code",
   "execution_count": 1,
   "id": "0ff1c904",
   "metadata": {},
   "outputs": [],
   "source": [
    "# Import Libraries\n",
    "import os\n",
    "import pandas as pd\n",
    "import numpy as np\n",
    "import matplotlib.pyplot as plt\n",
    "import seaborn as sns\n",
    "import tensorflow as tf\n",
    "import os\n",
    "import warnings\n",
    "\n",
    "from tensorflow.data import Dataset\n",
    "from tensorflow.keras.losses import MeanSquaredError\n",
    "from tensorflow.keras.metrics import RootMeanSquaredError\n",
    "from tensorflow.keras.callbacks import LearningRateScheduler, EarlyStopping\n",
    "from tensorflow.keras.layers import Dense, SimpleRNN, LSTM, Conv1D, MaxPooling1D, TimeDistributed, Flatten, Dropout, RepeatVector, RNN\n",
    "from tensorflow.keras.backend import clear_session\n",
    "from tensorflow.keras.models import Sequential\n",
    "from tensorflow.keras.callbacks import ModelCheckpoint\n",
    "from tensorflow.keras.optimizers import Adam\n",
    "\n",
    "from statsmodels.tsa.seasonal import STL\n",
    "from statsmodels.graphics.tsaplots import plot_acf, plot_pacf\n",
    "from statsmodels.tsa.stattools import adfuller, kpss, ccf\n",
    "from sklearn.metrics import mean_squared_error, r2_score\n",
    "from sklearn.preprocessing import LabelEncoder, StandardScaler, MinMaxScaler\n",
    "from sklearn.decomposition import PCA\n",
    "from sklearn.model_selection import train_test_split\n",
    "\n",
    "from math import sqrt\n",
    "\n",
    "%matplotlib inline\n",
    "\n",
    "warnings.simplefilter(action='ignore', category=(FutureWarning, UserWarning))\n",
    "pd.set_option('mode.chained_assignment', 'warn')\n",
    "\n",
    "plt.style.use('seaborn-v0_8-whitegrid') # print(plt.style.available)\n",
    "plt.rcParams['figure.dpi'] = 100"
   ]
  },
  {
   "cell_type": "code",
   "execution_count": null,
   "id": "f6cb944a",
   "metadata": {},
   "outputs": [],
   "source": [
    "# Load data\n",
    "weather_columns=['time', 'city_name',\n",
    "                 'temp', 'temp_min', 'temp_max',\n",
    "                 'pressure', 'humidity', 'wind_speed', 'wind_deg']\n",
    "\n",
    "enery_columns = ['time',\n",
    "                 'generation biomass',\n",
    "                 'generation fossil brown coal/lignite',\n",
    "                 'generation fossil gas',\n",
    "                 'generation fossil hard coal',\n",
    "                 'generation fossil oil',\n",
    "                 'generation hydro pumped storage consumption',\n",
    "                 'generation hydro run-of-river and poundage',\n",
    "                 'generation hydro water reservoir',\n",
    "                 'generation nuclear',\n",
    "                 'generation other',\n",
    "                 'generation other renewable',\n",
    "                 'generation solar',\n",
    "                 'generation waste',\n",
    "                 'generation wind onshore',\n",
    "                 'total load actual',\n",
    "                 #'price day ahead',\n",
    "                 'price actual']\n",
    "\n",
    "def parse_utc(x):\n",
    "    return pd.to_datetime(x, utc=True, infer_datetime_format=True)\n",
    "\n",
    "df_weather = pd.read_csv('weather_features.csv',\n",
    "                         parse_dates=['time'],\n",
    "                         date_parser=parse_utc,\n",
    "                         usecols=weather_columns,\n",
    "                         index_col=['time'])\n",
    "\n",
    "df_energy = pd.read_csv('energy_dataset.csv',\n",
    "                        parse_dates=['time'],\n",
    "                        date_parser=parse_utc,\n",
    "                        usecols=enery_columns,\n",
    "                        index_col=['time'])\n",
    "\n",
    "display(df_weather.head(), df_energy.head())"
   ]
  },
  {
   "cell_type": "code",
   "execution_count": null,
   "id": "e84cf676",
   "metadata": {
    "scrolled": false
   },
   "outputs": [],
   "source": [
    "# Data exploration\n",
    "\n",
    "# COMPLETE HERE\n",
    "\n",
    "# 1. Detect gaps in time series\n",
    "\n",
    "# 2. Convert data types in DataFrame\n",
    "\n",
    "# 3. Display descriptive statistics"
   ]
  },
  {
   "cell_type": "code",
   "execution_count": null,
   "id": "67ec60ba",
   "metadata": {},
   "outputs": [],
   "source": [
    "def plot_series(df=None, column=None, series=pd.Series([]), \n",
    "                label=None, ylabel=None, title=None, start=0, end=None):\n",
    "\n",
    "    sns.set_style(\"whitegrid\")\n",
    "    sns.set_context(\"talk\")\n",
    "    fig, ax = plt.subplots(figsize=(30, 12))\n",
    "    \n",
    "    ax.set_xlabel('Time', fontsize=18, weight='bold')  \n",
    "    line_width = 5 \n",
    "    if column:\n",
    "        ax.plot(df[column][start:end], label=label, linewidth=line_width)\n",
    "        ax.set_ylabel(ylabel, fontsize=18, weight='bold')  \n",
    "    if series.any():\n",
    "        ax.plot(series, label=label, linewidth=line_width)\n",
    "        ax.set_ylabel(ylabel, fontsize=18, weight='bold')  \n",
    "    if label:\n",
    "        ax.legend(fontsize=18)  \n",
    "    if title:\n",
    "        ax.set_title(title, fontsize=26, weight='bold')  \n",
    "    \n",
    "    ax.tick_params(axis='x', labelsize=18, labelrotation=0)\n",
    "    ax.tick_params(axis='y', labelsize=18)\n",
    "    \n",
    "    for label in ax.get_xticklabels():\n",
    "        label.set_weight('bold')\n",
    "        label.set_color('black')\n",
    "    \n",
    "    for label in ax.get_yticklabels():\n",
    "        label.set_weight('bold')\n",
    "        label.set_color('black')\n",
    "    \n",
    "    ax.grid(True)\n",
    "    return ax\n",
    "\n",
    "ax = plot_series(df=df_energy, column='total load actual', ylabel='Total Load (MWh)',\n",
    "                 title='Actual Total Load (First 2 weeks - Original)', end=24*7*2)\n",
    "plt.show()"
   ]
  },
  {
   "cell_type": "code",
   "execution_count": null,
   "id": "ad0dd3f9",
   "metadata": {},
   "outputs": [],
   "source": [
    "# DATA IMPUTATION AND CLEANING\n",
    "\n",
    "# 1. Check missing values\n",
    "\n",
    "# 2. Check duplicates\n",
    "\n",
    "# 3. Replace outliers with NaN\n",
    "\n",
    "# 4. Imputation methods"
   ]
  },
  {
   "cell_type": "code",
   "execution_count": null,
   "id": "16c65d4c",
   "metadata": {},
   "outputs": [],
   "source": [
    "# Number of observations per city"
   ]
  },
  {
   "cell_type": "code",
   "execution_count": null,
   "id": "44ea1124",
   "metadata": {
    "scrolled": false
   },
   "outputs": [],
   "source": [
    "# Merge dataframes"
   ]
  },
  {
   "cell_type": "markdown",
   "id": "4a8c99ff",
   "metadata": {},
   "source": [
    "## 📊 Visualizaciones y análisis de series temporales"
   ]
  },
  {
   "cell_type": "code",
   "execution_count": null,
   "id": "354dc373",
   "metadata": {
    "scrolled": false
   },
   "outputs": [],
   "source": [
    "# Actual electricity price plot per two weeks\n",
    "ax = plot_series(df, 'price actual', label='Hourly', ylabel='Actual Price (€/MWh)',\n",
    "                 start=1 + 24 * 500, end=1 + 24 * 515,\n",
    "                 title='Actual Hourly Electricity Price (Zoomed - 2 Weeks)')\n",
    "\n",
    "start_of_first_week = '2016-04-24'\n",
    "end_of_first_week = '2016-05-01'\n",
    "ax.axvspan(start_of_first_week, end_of_first_week, facecolor='lightblue', alpha=0.5)\n",
    "\n",
    "start_of_second_week = '2016-05-01'\n",
    "end_of_second_week = '2016-05-08'\n",
    "ax.axvspan(start_of_second_week, end_of_second_week, facecolor='lightgreen', alpha=0.5)\n",
    "\n",
    "plt.show()"
   ]
  },
  {
   "cell_type": "code",
   "execution_count": null,
   "id": "044939e0",
   "metadata": {
    "scrolled": false
   },
   "outputs": [],
   "source": [
    "# Actual electricity price decompose (Y = Trend + Seasonal + Cyclical + Irregular)\n",
    "\n",
    "# Extract the trend component\n",
    "\n",
    "# Extract the seasonal component\n",
    "\n",
    "# Extract the irregular component"
   ]
  },
  {
   "cell_type": "markdown",
   "id": "63389c99",
   "metadata": {},
   "source": [
    "## 🔪 Segmentación de Datos Multivariantes en Ventanas\n",
    "\n",
    "**Concepto Principal:**\n",
    "\n",
    "La segmentación de datos en ventanas es una técnica esencial cuando se trabaja con series temporales, en particular para modelos de aprendizaje profundo como las redes neuronales. Esta técnica permite transformar un conjunto de datos temporal en segmentos o \"ventanas\" que facilitan el entrenamiento y la predicción.\n",
    "\n",
    "La idea es tomar \"fotografías\" o \"ventanas\" de datos consecutivos y usarlas como entradas para el modelo. Cada ventana tiene una longitud fija y se mueve a través del conjunto de datos paso a paso.\n",
    "\n",
    "<table style=\"width:100%;\">\n",
    "  <tr>\n",
    "    <td style=\"text-align:center;\"><img src=\"images/backtesting_refit_fixed_train_size.gif\" alt=\"Backtesting Refit Fixed Train Size\"/></td>\n",
    "    <td style=\"text-align:center;\"><img src=\"images/Sliding-Windows-Approach-window-size-10-and-step-1.ppm\" alt=\"Sliding Windows Approach\"/></td>\n",
    "  </tr>\n",
    "</table>"
   ]
  },
  {
   "cell_type": "code",
   "execution_count": null,
   "id": "e5fad9ca",
   "metadata": {},
   "outputs": [],
   "source": [
    "def multivariate_data(dataset, target, start_index, end_index, windows_size,\n",
    "                      target_size, step, single_step=False):\n",
    "# COMPLETE HERE\n",
    "    return np.array(data), np.array(labels)"
   ]
  },
  {
   "cell_type": "markdown",
   "id": "45094efd",
   "metadata": {},
   "source": [
    "La función **multivariate_data** crea conjuntos de datos con ventanas a partir de datos de series temporales, utilizando el método de windowing o ventana deslizante. Para ello, segmenta el conjunto de datos en ventanas superpuestas o no superpuestas y, a continuación, organiza estas ventanas en un formato adecuado.\n",
    "\n",
    "**Atributos:**\n",
    "- `dataset`: La matriz de datos de entrada.\n",
    "- `target`: La matriz de valores objetivo.\n",
    "- `start_index`: El índice en el que comenzar a extraer datos.\n",
    "- `end_index`: El índice en el que detener la extracción de datos.\n",
    "- `history_size`: El tamaño de la ventana histórica de datos a utilizar.\n",
    "- `target_size`: El número de valores objetivo a predecir.\n",
    "- `step`: El paso o intervalo entre datos consecutivos en una ventana.\n",
    "- `single_step`: Un booleano para determinar si predecir un solo paso en el futuro (True) o varios pasos (False)."
   ]
  },
  {
   "cell_type": "code",
   "execution_count": null,
   "id": "8ecadbf6",
   "metadata": {},
   "outputs": [],
   "source": [
    "# Split the data"
   ]
  },
  {
   "cell_type": "markdown",
   "id": "8903e5dd",
   "metadata": {},
   "source": [
    "### 🤖 Modelos y Capas:"
   ]
  },
  {
   "cell_type": "code",
   "execution_count": null,
   "id": "f6998c2c",
   "metadata": {},
   "outputs": [],
   "source": [
    "# Parameters\n",
    "BATCH_SIZE = 32\n",
    "BUFFER_SIZE = 1000\n",
    "\n",
    "# 1. Preparing datasets\n",
    "\n",
    "# Training dataset\n",
    "train = Dataset.from_tensor_slices((X_train, y_train))\n",
    "train = train.cache().shuffle(BUFFER_SIZE).batch(BATCH_SIZE).prefetch(1)\n",
    "\n",
    "# Validation dataset\n",
    "validation = Dataset.from_tensor_slices((X_val, y_val))\n",
    "validation = validation.batch(BATCH_SIZE).prefetch(1)\n",
    "\n",
    "# 2. Model parameters and callbacks\n",
    "\n",
    "# Input shape for the neural network\n",
    "input_shape = X_train.shape[-2:]\n",
    "\n",
    "# Loss function\n",
    "loss = MeanSquaredError()\n",
    "\n",
    "# Metrics\n",
    "metric = [RootMeanSquaredError()]\n",
    "\n",
    "# Learning rate scheduler\n",
    "lr_schedule = LearningRateScheduler(lambda epoch: 1e-4 * 10**(epoch / 10))\n",
    "\n",
    "# Early stopping callback\n",
    "early_stopping = EarlyStopping(patience=10)\n",
    "\n",
    "# 3. Post-processing for test data\n",
    "y_test = y_test.reshape(-1, 1)\n",
    "y_test_inv = scaler_y.inverse_transform(y_test)"
   ]
  },
  {
   "cell_type": "code",
   "execution_count": null,
   "id": "a36e4692",
   "metadata": {},
   "outputs": [],
   "source": [
    "# plots for model evaluation\n",
    "def plot_model_rmse_and_loss(history):\n",
    "    \n",
    "    train_rmse = history.history['root_mean_squared_error']\n",
    "    val_rmse = history.history['val_root_mean_squared_error']\n",
    "    \n",
    "    train_loss = history.history['loss']\n",
    "    val_loss = history.history['val_loss']\n",
    "    \n",
    "    plt.figure(figsize=(20, 10))\n",
    "    plt.subplot(1, 2, 1)\n",
    "    plt.plot(train_rmse, label='Training RMSE')\n",
    "    plt.plot(val_rmse, label='Validation RMSE')\n",
    "    plt.legend()\n",
    "    plt.title('Epochs vs. Training and Validation RMSE')\n",
    "    \n",
    "    plt.subplot(1, 2, 2)\n",
    "    plt.plot(train_loss, label='Training Loss')\n",
    "    plt.plot(val_loss, label='Validation Loss')\n",
    "    plt.legend()\n",
    "    plt.title('Epochs vs. Training and Validation Loss')\n",
    "    \n",
    "    plt.show()\n",
    "    \n",
    "def plot_goodness_of_fit(y_true, y_pred):\n",
    "    \n",
    "    r2 = r2_score(y_true, y_pred)\n",
    "    \n",
    "    fig, ax = plt.subplots()\n",
    "    \n",
    "    ax.scatter(y_true, y_pred, alpha=0.5, marker='.', edgecolors='white', linewidths=0.5)\n",
    "    ax.plot([y_true.min(), y_true.max()], [y_true.min(), y_true.max()],\n",
    "            'k--', lw=2, color='black', label='Reference')\n",
    "    ax.text(0.8, 0.1, f'R² = {r2:.2f}', transform=ax.transAxes, fontsize=12,\n",
    "            verticalalignment='center', horizontalalignment='center')\n",
    "    \n",
    "    ax.set_xlabel('Real Values')\n",
    "    ax.set_ylabel('Predictions')\n",
    "    ax.legend()\n",
    "    \n",
    "    plt.show()"
   ]
  },
  {
   "cell_type": "markdown",
   "id": "da020e5d",
   "metadata": {},
   "source": [
    "### RNN (Recurrent Neural Networks):\n",
    "\n",
    "Las RNN son redes neuronales diseñadas para trabajar con secuencias de datos, donde la información previa podría influir en la salida actual.\n",
    "\n",
    "A diferencia de las redes neuronales tradicionales, las RNN mantienen una especie de \"memoria\" al recircular la salida de una capa neuronal a la entrada de la misma. Esto les permite recordar información de entradas anteriores.\n",
    "\n",
    "![](images/1_SKGAqkVVzT6co-sZ29ze-g.webp)"
   ]
  },
  {
   "cell_type": "code",
   "execution_count": null,
   "id": "f54d94b8",
   "metadata": {},
   "outputs": [],
   "source": [
    "# Compile and fit RNN model\n",
    "clear_session()\n",
    "\n",
    "model_rnn = Sequential([\n",
    "# COMPLETE HERE\n",
    "])\n",
    "\n",
    "# COMPLETE HERE"
   ]
  },
  {
   "cell_type": "code",
   "execution_count": null,
   "id": "7bf8f09f",
   "metadata": {},
   "outputs": [],
   "source": [
    "# Evaluate RNN model: performance and visualize results\n",
    "plot_model_rmse_and_loss(history)\n",
    "\n",
    "y_pred = model_rnn.predict(X_test)\n",
    "\n",
    "y_test_original = scaler_y.inverse_transform(y_test.reshape(-1, 1))\n",
    "y_pred_original = scaler_y.inverse_transform(y_pred.reshape(-1, 1))\n",
    "\n",
    "plot_goodness_of_fit(y_test_original, y_pred_original)"
   ]
  },
  {
   "cell_type": "markdown",
   "id": "8ac52457",
   "metadata": {},
   "source": [
    "### LSTM (Long Short-Term Memory):\n",
    "\n",
    "Las LSTM son una variante especializada de las Redes Neuronales Recurrentes (RNN). Están diseñadas para recordar patrones a largo plazo y son particularmente útiles para secuencias y series temporales.\n",
    "\n",
    "A diferencia de las RNN estándar, que pueden tener dificultades para mantener información a lo largo de muchas secuencias debido al \"problema de la desaparición del gradiente\", las LSTM tienen una estructura de \"celda de memoria\". Estas celdas permiten que la información sea leída, escrita o borrada, gracias a estructuras llamadas puertas (gates).\n",
    "\n",
    "![](images/LSTM.jpg)"
   ]
  },
  {
   "cell_type": "code",
   "execution_count": null,
   "id": "a8144abd",
   "metadata": {},
   "outputs": [],
   "source": [
    "# Compile and fit LSTM model\n",
    "clear_session()\n",
    "\n",
    "model_lstm = Sequential([\n",
    "    # COMPLETE HERE\n",
    "])\n",
    "\n",
    "# COMPLETE HERE"
   ]
  },
  {
   "cell_type": "code",
   "execution_count": null,
   "id": "b623fd0f",
   "metadata": {},
   "outputs": [],
   "source": [
    "# Evaluate LSTM model: performance and visualize results\n",
    "plot_model_rmse_and_loss(history)\n",
    "\n",
    "y_pred = model_lstm.predict(X_test)\n",
    "\n",
    "y_test_original = scaler_y.inverse_transform(y_test.reshape(-1, 1))\n",
    "y_pred_original = scaler_y.inverse_transform(y_pred.reshape(-1, 1))\n",
    "\n",
    "plot_goodness_of_fit(y_test_original, y_pred_original)"
   ]
  },
  {
   "cell_type": "markdown",
   "id": "2f7f4e46",
   "metadata": {},
   "source": [
    "### CNN (Convolutional Neural Networks):\n",
    "\n",
    "Las CNN son redes neuronales que se han popularizado en tareas de procesamiento de imágenes.\n",
    "\n",
    "En el contexto de series temporales, una convolución funciona como un filtro que se desliza a través de los datos temporales, detectando características específicas en el tiempo. Cada filtro puede estar diseñado para captar una característica temporal diferente, como tendencias, ciclos, o anomalías.\n",
    "<table style=\"width:100%;\">\n",
    "  <tr>\n",
    "    <td style=\"text-align:center;\"><img src=\"images/bb_copy.gif\"/></td>\n",
    "    <td style=\"text-align:center;\"><img src=\"images/1_BqNxNytX2Ihp-xGH-XSF8Q.webp\"/></td>\n",
    "  </tr>\n",
    "</table>"
   ]
  },
  {
   "cell_type": "code",
   "execution_count": null,
   "id": "a5038e72",
   "metadata": {},
   "outputs": [],
   "source": [
    "# compile and fit CNN model\n",
    "clear_session()\n",
    "\n",
    "model_cnn = Sequential([\n",
    "    # COMPLETE HERE\n",
    "])\n",
    "\n",
    "# COMPLETE HERE"
   ]
  },
  {
   "cell_type": "code",
   "execution_count": null,
   "id": "322b7203",
   "metadata": {},
   "outputs": [],
   "source": [
    "# Evaluate CNN model: performance and visualize results\n",
    "plot_model_rmse_and_loss(history)\n",
    "\n",
    "y_pred = model_cnn.predict(X_test)\n",
    "\n",
    "y_test_original = scaler_y.inverse_transform(y_test.reshape(-1, 1))\n",
    "y_pred_original = scaler_y.inverse_transform(y_pred.reshape(-1, 1))\n",
    "\n",
    "plot_goodness_of_fit(y_test_original, y_pred_original)"
   ]
  },
  {
   "cell_type": "markdown",
   "id": "0e57a4f7",
   "metadata": {},
   "source": [
    "## 📚 Enlaces de interés\n",
    "\n",
    "https://www.kaggle.com/code/azminetoushikwasi/time-series-analysis-forecasting\n",
    "\n",
    "https://www.kaggle.com/code/iamleonie/intro-to-time-series-forecasting"
   ]
  }
 ],
 "metadata": {
  "kernelspec": {
   "display_name": "Python 3 (ipykernel)",
   "language": "python",
   "name": "python3"
  },
  "language_info": {
   "codemirror_mode": {
    "name": "ipython",
    "version": 3
   },
   "file_extension": ".py",
   "mimetype": "text/x-python",
   "name": "python",
   "nbconvert_exporter": "python",
   "pygments_lexer": "ipython3",
   "version": "3.11.4"
  }
 },
 "nbformat": 4,
 "nbformat_minor": 5
}
